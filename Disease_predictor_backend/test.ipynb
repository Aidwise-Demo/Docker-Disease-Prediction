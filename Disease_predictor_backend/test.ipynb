{
 "cells": [
  {
   "cell_type": "code",
   "execution_count": 1,
   "metadata": {},
   "outputs": [
    {
     "name": "stdout",
     "output_type": "stream",
     "text": [
      "Cloud Name: dge8sniaa\n",
      "API Key: 428333455231115\n",
      "API Secret: huSTYFbBLUjU7EgxezYxohSjCRM\n"
     ]
    }
   ],
   "source": [
    "import os\n",
    "\n",
    "# Debugging: Print out the Cloudinary config\n",
    "print(\"Cloud Name:\", os.getenv('CLOUDINARY_CLOUD_NAME_AIDWISE_DEMO'))\n",
    "print(\"API Key:\", os.getenv('CLOUDINARY_API_KEY_AIDWISE_DEMO'))\n",
    "print(\"API Secret:\", os.getenv('CLOUDINARY_API_SECRET_AIDWISE_DEMO'))\n"
   ]
  },
  {
   "cell_type": "code",
   "execution_count": null,
   "metadata": {},
   "outputs": [],
   "source": []
  }
 ],
 "metadata": {
  "kernelspec": {
   "display_name": "myenv",
   "language": "python",
   "name": "python3"
  },
  "language_info": {
   "codemirror_mode": {
    "name": "ipython",
    "version": 3
   },
   "file_extension": ".py",
   "mimetype": "text/x-python",
   "name": "python",
   "nbconvert_exporter": "python",
   "pygments_lexer": "ipython3",
   "version": "3.9.13"
  }
 },
 "nbformat": 4,
 "nbformat_minor": 2
}
